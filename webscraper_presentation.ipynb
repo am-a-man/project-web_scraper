{
 "cells": [
  {
   "cell_type": "markdown",
   "metadata": {},
   "source": [
    "# Web Scraping workshop"
   ]
  },
  {
   "cell_type": "markdown",
   "metadata": {},
   "source": [
    "## 0. Some basic questions"
   ]
  },
  {
   "cell_type": "markdown",
   "metadata": {},
   "source": [
    "### 1. What is web scraping and why is it important?\n",
    ">#### 1. Collecting raw data from a site and parsing it down to the information that is of use to the user called web scraping\n",
    ">#### 2. The reason it is needed is:\n",
    ">>#### 1. for creating a dataset for ML/AI projects\n",
    ">>#### 2. automate some of the tasks that are too lengthy or take up a lot of time\n",
    ">>#### 3. for any reason you want, at this time learning it would appear pointless but there are a lot of benefits for doing this "
   ]
  },
  {
   "cell_type": "markdown",
   "metadata": {},
   "source": [
    "### 2. Why are we using Selenium driver for web scraping, but first what is selenium driver?\n",
    ">#### 1. Selenium is a tool that is used to stimulate browsers, you can do it for various purposes, some examples are testing your web apps, for scraping, etc.\n",
    ">#### 2. Why are we using selenium? This question only rises when you are aware that libraries do exist that can parse html and we can get raw html file through some inbuilt libraries in python.\n",
    "Now this is a very important question and it would need another heading to explain it."
   ]
  },
  {
   "cell_type": "markdown",
   "metadata": {},
   "source": [
    "### 3. DOM elements of a site, API responses and other dynamic elements:\n",
    ">#### 1. There are a lot of elements that are dynamic in nature i.e. they are not loaded as a part of html file but they are introduced later, this later may not be a lot later, but even then not along the html file\n",
    ">#### 2. To see how it happens \"inspect\" your web page, go to \"Networks\" and then reload\n",
    ">#### 3. problem with this is when we use any library to return the html of a site, it returns the content of a raw html file, it may contain script that is being used in the front-end but that is not useful in any way.\n",
    ">#### 4. so, the only viable option that remains is to stimulate the browser, let the DOM elements load and then extract the data, this is precisely what we are going to do"
   ]
  },
  {
   "cell_type": "markdown",
   "metadata": {},
   "source": [
    "### 4. if you want to see the differences that we are talking about, go to a site, there are two ways to see the related html \n",
    ">#### 1. use 'Inspect' by pressing F12 or Ctrl+Shift+I, it gives you the html with loaded DOM elements\n",
    ">#### 2. Use 'Ctrl+U' to view the 'page source code' this is the raw file that we recieve without any driver"
   ]
  },
  {
   "cell_type": "markdown",
   "metadata": {},
   "source": [
    "## 1. using Selenium web driver"
   ]
  },
  {
   "cell_type": "markdown",
   "metadata": {},
   "source": [
    "### 1. Basic tasks:\n",
    ">#### 1. open the Documentation of Selenium WebDriver https://www.selenium.dev/documentation/en/\n",
    ">#### 2. install selenium:\n",
    ">>#### 1. You have to install selenium write \"pip install selenium\" in your CMD/powershell/kernel\n",
    ">#### 3. install ChromeDriver (hold on to this if not already done)\n",
    ">#### 4. this notebook is available at https://github.com/am-a-man/project-web_scraper/blob/main/webscraper_presentation.ipynb if you have jupyter and are comfortable with it download it for your reference"
   ]
  },
  {
   "cell_type": "markdown",
   "metadata": {},
   "source": [
    "Import all the libraries as specified below, as you make more projects you will get familier with all of them, if you have any doubts when operating with these libraries on your own, refer to their documentation"
   ]
  },
  {
   "cell_type": "code",
   "execution_count": 1,
   "metadata": {},
   "outputs": [],
   "source": [
    "import os\n",
    "from selenium import webdriver\n",
    "import time\n",
    "\n",
    "from webdriver_manager.chrome import ChromeDriverManager\n",
    "from selenium.common.exceptions import ElementClickInterceptedException\n",
    "from selenium.webdriver.support.ui import WebDriverWait\n"
   ]
  },
  {
   "cell_type": "markdown",
   "metadata": {},
   "source": [
    "      "
   ]
  },
  {
   "cell_type": "markdown",
   "metadata": {},
   "source": [
    "### What are we going to learn in this workshop:\n",
    "> 1. finding and specifying the element we need to specify\n",
    "> 2. extracting the content from the element\n",
    "> 3. extracting any attribute from the element (for example: you will be extracting href attribute from <a></a> tag)\n",
    "> 4. Clicking on a element"
   ]
  },
  {
   "cell_type": "markdown",
   "metadata": {},
   "source": [
    "   "
   ]
  },
  {
   "cell_type": "markdown",
   "metadata": {},
   "source": [
    "Setup code:"
   ]
  },
  {
   "cell_type": "code",
   "execution_count": 4,
   "metadata": {},
   "outputs": [
    {
     "name": "stderr",
     "output_type": "stream",
     "text": [
      "C:\\Users\\Aman\\AppData\\Roaming\\Python\\Python38\\site-packages\\urllib3\\connectionpool.py:842: InsecureRequestWarning: Unverified HTTPS request is being made. Adding certificate verification is strongly advised. See: https://urllib3.readthedocs.io/en/latest/advanced-usage.html#ssl-warnings\n",
      "  warnings.warn((\n"
     ]
    },
    {
     "ename": "WebDriverException",
     "evalue": "Message: <!DOCTYPE html>\n<html lang=\"en\">\n<head>\n<meta charset=\"utf-8\">\n<title>Error</title>\n</head>\n<body>\n<pre>Cannot POST /session</pre>\n</body>\n</html>\n\n",
     "output_type": "error",
     "traceback": [
      "\u001b[1;31m---------------------------------------------------------------------------\u001b[0m",
      "\u001b[1;31mWebDriverException\u001b[0m                        Traceback (most recent call last)",
      "\u001b[1;32m<ipython-input-4-8de9cf51ce1c>\u001b[0m in \u001b[0;36m<module>\u001b[1;34m\u001b[0m\n\u001b[0;32m      3\u001b[0m \u001b[1;33m\u001b[0m\u001b[0m\n\u001b[0;32m      4\u001b[0m \u001b[0mchrome_options\u001b[0m \u001b[1;33m=\u001b[0m \u001b[0mwebdriver\u001b[0m\u001b[1;33m.\u001b[0m\u001b[0mChromeOptions\u001b[0m\u001b[1;33m(\u001b[0m\u001b[1;33m)\u001b[0m\u001b[1;33m\u001b[0m\u001b[1;33m\u001b[0m\u001b[0m\n\u001b[1;32m----> 5\u001b[1;33m driver = webdriver.Remote(\n\u001b[0m\u001b[0;32m      6\u001b[0m     \u001b[0mcommand_executor\u001b[0m\u001b[1;33m=\u001b[0m\u001b[1;34m'https://requip.herokuapp.com'\u001b[0m\u001b[1;33m,\u001b[0m\u001b[1;33m\u001b[0m\u001b[1;33m\u001b[0m\u001b[0m\n\u001b[0;32m      7\u001b[0m     \u001b[0moptions\u001b[0m\u001b[1;33m=\u001b[0m\u001b[0mchrome_options\u001b[0m\u001b[1;33m\u001b[0m\u001b[1;33m\u001b[0m\u001b[0m\n",
      "\u001b[1;32m~\\Anaconda3.1\\lib\\site-packages\\selenium\\webdriver\\remote\\webdriver.py\u001b[0m in \u001b[0;36m__init__\u001b[1;34m(self, command_executor, desired_capabilities, browser_profile, proxy, keep_alive, file_detector, options)\u001b[0m\n\u001b[0;32m    155\u001b[0m             warnings.warn(\"Please use FirefoxOptions to set browser profile\",\n\u001b[0;32m    156\u001b[0m                           DeprecationWarning, stacklevel=2)\n\u001b[1;32m--> 157\u001b[1;33m         \u001b[0mself\u001b[0m\u001b[1;33m.\u001b[0m\u001b[0mstart_session\u001b[0m\u001b[1;33m(\u001b[0m\u001b[0mcapabilities\u001b[0m\u001b[1;33m,\u001b[0m \u001b[0mbrowser_profile\u001b[0m\u001b[1;33m)\u001b[0m\u001b[1;33m\u001b[0m\u001b[1;33m\u001b[0m\u001b[0m\n\u001b[0m\u001b[0;32m    158\u001b[0m         \u001b[0mself\u001b[0m\u001b[1;33m.\u001b[0m\u001b[0m_switch_to\u001b[0m \u001b[1;33m=\u001b[0m \u001b[0mSwitchTo\u001b[0m\u001b[1;33m(\u001b[0m\u001b[0mself\u001b[0m\u001b[1;33m)\u001b[0m\u001b[1;33m\u001b[0m\u001b[1;33m\u001b[0m\u001b[0m\n\u001b[0;32m    159\u001b[0m         \u001b[0mself\u001b[0m\u001b[1;33m.\u001b[0m\u001b[0m_mobile\u001b[0m \u001b[1;33m=\u001b[0m \u001b[0mMobile\u001b[0m\u001b[1;33m(\u001b[0m\u001b[0mself\u001b[0m\u001b[1;33m)\u001b[0m\u001b[1;33m\u001b[0m\u001b[1;33m\u001b[0m\u001b[0m\n",
      "\u001b[1;32m~\\Anaconda3.1\\lib\\site-packages\\selenium\\webdriver\\remote\\webdriver.py\u001b[0m in \u001b[0;36mstart_session\u001b[1;34m(self, capabilities, browser_profile)\u001b[0m\n\u001b[0;32m    250\u001b[0m         parameters = {\"capabilities\": w3c_caps,\n\u001b[0;32m    251\u001b[0m                       \"desiredCapabilities\": capabilities}\n\u001b[1;32m--> 252\u001b[1;33m         \u001b[0mresponse\u001b[0m \u001b[1;33m=\u001b[0m \u001b[0mself\u001b[0m\u001b[1;33m.\u001b[0m\u001b[0mexecute\u001b[0m\u001b[1;33m(\u001b[0m\u001b[0mCommand\u001b[0m\u001b[1;33m.\u001b[0m\u001b[0mNEW_SESSION\u001b[0m\u001b[1;33m,\u001b[0m \u001b[0mparameters\u001b[0m\u001b[1;33m)\u001b[0m\u001b[1;33m\u001b[0m\u001b[1;33m\u001b[0m\u001b[0m\n\u001b[0m\u001b[0;32m    253\u001b[0m         \u001b[1;32mif\u001b[0m \u001b[1;34m'sessionId'\u001b[0m \u001b[1;32mnot\u001b[0m \u001b[1;32min\u001b[0m \u001b[0mresponse\u001b[0m\u001b[1;33m:\u001b[0m\u001b[1;33m\u001b[0m\u001b[1;33m\u001b[0m\u001b[0m\n\u001b[0;32m    254\u001b[0m             \u001b[0mresponse\u001b[0m \u001b[1;33m=\u001b[0m \u001b[0mresponse\u001b[0m\u001b[1;33m[\u001b[0m\u001b[1;34m'value'\u001b[0m\u001b[1;33m]\u001b[0m\u001b[1;33m\u001b[0m\u001b[1;33m\u001b[0m\u001b[0m\n",
      "\u001b[1;32m~\\Anaconda3.1\\lib\\site-packages\\selenium\\webdriver\\remote\\webdriver.py\u001b[0m in \u001b[0;36mexecute\u001b[1;34m(self, driver_command, params)\u001b[0m\n\u001b[0;32m    319\u001b[0m         \u001b[0mresponse\u001b[0m \u001b[1;33m=\u001b[0m \u001b[0mself\u001b[0m\u001b[1;33m.\u001b[0m\u001b[0mcommand_executor\u001b[0m\u001b[1;33m.\u001b[0m\u001b[0mexecute\u001b[0m\u001b[1;33m(\u001b[0m\u001b[0mdriver_command\u001b[0m\u001b[1;33m,\u001b[0m \u001b[0mparams\u001b[0m\u001b[1;33m)\u001b[0m\u001b[1;33m\u001b[0m\u001b[1;33m\u001b[0m\u001b[0m\n\u001b[0;32m    320\u001b[0m         \u001b[1;32mif\u001b[0m \u001b[0mresponse\u001b[0m\u001b[1;33m:\u001b[0m\u001b[1;33m\u001b[0m\u001b[1;33m\u001b[0m\u001b[0m\n\u001b[1;32m--> 321\u001b[1;33m             \u001b[0mself\u001b[0m\u001b[1;33m.\u001b[0m\u001b[0merror_handler\u001b[0m\u001b[1;33m.\u001b[0m\u001b[0mcheck_response\u001b[0m\u001b[1;33m(\u001b[0m\u001b[0mresponse\u001b[0m\u001b[1;33m)\u001b[0m\u001b[1;33m\u001b[0m\u001b[1;33m\u001b[0m\u001b[0m\n\u001b[0m\u001b[0;32m    322\u001b[0m             response['value'] = self._unwrap_value(\n\u001b[0;32m    323\u001b[0m                 response.get('value', None))\n",
      "\u001b[1;32m~\\Anaconda3.1\\lib\\site-packages\\selenium\\webdriver\\remote\\errorhandler.py\u001b[0m in \u001b[0;36mcheck_response\u001b[1;34m(self, response)\u001b[0m\n\u001b[0;32m    206\u001b[0m             \u001b[1;32mif\u001b[0m \u001b[0mexception_class\u001b[0m \u001b[1;33m==\u001b[0m \u001b[0mErrorInResponseException\u001b[0m\u001b[1;33m:\u001b[0m\u001b[1;33m\u001b[0m\u001b[1;33m\u001b[0m\u001b[0m\n\u001b[0;32m    207\u001b[0m                 \u001b[1;32mraise\u001b[0m \u001b[0mexception_class\u001b[0m\u001b[1;33m(\u001b[0m\u001b[0mresponse\u001b[0m\u001b[1;33m,\u001b[0m \u001b[0mvalue\u001b[0m\u001b[1;33m)\u001b[0m\u001b[1;33m\u001b[0m\u001b[1;33m\u001b[0m\u001b[0m\n\u001b[1;32m--> 208\u001b[1;33m             \u001b[1;32mraise\u001b[0m \u001b[0mexception_class\u001b[0m\u001b[1;33m(\u001b[0m\u001b[0mvalue\u001b[0m\u001b[1;33m)\u001b[0m\u001b[1;33m\u001b[0m\u001b[1;33m\u001b[0m\u001b[0m\n\u001b[0m\u001b[0;32m    209\u001b[0m         \u001b[1;32mif\u001b[0m \u001b[0mmessage\u001b[0m \u001b[1;33m==\u001b[0m \u001b[1;34m\"\"\u001b[0m \u001b[1;32mand\u001b[0m \u001b[1;34m'message'\u001b[0m \u001b[1;32min\u001b[0m \u001b[0mvalue\u001b[0m\u001b[1;33m:\u001b[0m\u001b[1;33m\u001b[0m\u001b[1;33m\u001b[0m\u001b[0m\n\u001b[0;32m    210\u001b[0m             \u001b[0mmessage\u001b[0m \u001b[1;33m=\u001b[0m \u001b[0mvalue\u001b[0m\u001b[1;33m[\u001b[0m\u001b[1;34m'message'\u001b[0m\u001b[1;33m]\u001b[0m\u001b[1;33m\u001b[0m\u001b[1;33m\u001b[0m\u001b[0m\n",
      "\u001b[1;31mWebDriverException\u001b[0m: Message: <!DOCTYPE html>\n<html lang=\"en\">\n<head>\n<meta charset=\"utf-8\">\n<title>Error</title>\n</head>\n<body>\n<pre>Cannot POST /session</pre>\n</body>\n</html>\n\n"
     ]
    }
   ],
   "source": [
    "os.environ['WDM_LOG_LEVEL'] = '0'\n",
    "# path = 'c:/users/aman/download/chromedriver.exe'\n",
    "\n",
    "chrome_options = webdriver.ChromeOptions()\n",
    "driver = webdriver.Remote(\n",
    "    command_executor='https://requip.herokuapp.com',\n",
    "    options=chrome_options\n",
    ")\n",
    "# DRIVER =WEBDRIVER.fIREFOX(PATH)\n",
    "\n",
    "search_url='https://careers.microsoft.com/students/us/en/search-results'\n",
    "driver.get(search_url)\n",
    "print(ChromeDriverManager())"
   ]
  },
  {
   "cell_type": "markdown",
   "metadata": {},
   "source": [
    "#### explaination of above lines:\n",
    "> 1. os.environ['WDM_LOG_LEVEL'] = '0' : it is used to block any log messages from the operating system, we are dealing with stimulating a program, so working status logs are possible\n",
    "2. driver = webdriver.Chrome(ChromeDriverManager().install()) : this statement install ChromeDriver, if you have it installed just use the path as an argument 'webdriver.Chrome(PATH)'\n",
    "3. search_url='https://careers.microsoft.com/students/us/en/search-results' :this is the url that we are going to scrape\n",
    "4. driver.get(search_url) : this is a API-get request to the site which returns the html of the website as a result"
   ]
  },
  {
   "cell_type": "markdown",
   "metadata": {},
   "source": [
    "  \n",
    "  "
   ]
  },
  {
   "cell_type": "markdown",
   "metadata": {},
   "source": [
    "   "
   ]
  },
  {
   "cell_type": "markdown",
   "metadata": {},
   "source": [
    "    "
   ]
  },
  {
   "cell_type": "markdown",
   "metadata": {},
   "source": [
    "### 1. finding the element we need to specify:\n",
    "> 1. run the setup code and inspect the site to look for the element:"
   ]
  },
  {
   "cell_type": "code",
   "execution_count": null,
   "metadata": {},
   "outputs": [],
   "source": [
    "\"\"\"the data we want to extract is the jobs list, when we inspect we can see that there is a \n",
    "\"<ul></ul>\" tag with class = 'jobs-list'\n",
    "and each of the list items in \"<li></li>\" tag has class 'jobs-list-item'\"\"\""
   ]
  },
  {
   "cell_type": "markdown",
   "metadata": {},
   "source": [
    "1. now to use this element in our program:\n",
    "2. there are any ways that we can do this:\n",
    "    1. switch to documentation for this: https://selenium-python.readthedocs.io/locating-elements.html    \n",
    "    2. know the difference between '..elements..' and '..element..'"
   ]
  },
  {
   "cell_type": "markdown",
   "metadata": {},
   "source": [
    "The next few blocks have the same output:"
   ]
  },
  {
   "cell_type": "code",
   "execution_count": 3,
   "metadata": {},
   "outputs": [
    {
     "name": "stdout",
     "output_type": "stream",
     "text": [
      "<selenium.webdriver.remote.webelement.WebElement (session=\"cc99fbd372b7f306dc6bd197c4ab253e\", element=\"ffbde9ae-48e8-4770-9c2c-658f8e2a5751\")>\n",
      "<class 'selenium.webdriver.remote.webelement.WebElement'>\n",
      "Internship Opportunities: Spreadsheet Experience and Technology\n",
      "Cambridge, Cambridgeshire, United Kingdom\n",
      "Research\n",
      "Dec 8, 2020\n",
      "The soul of the spreadsheet is the grid and its formulas.  Spreadsheets are the world’s most widely-used programming technology – but they also embody apparently-fundamental limitations.\n",
      "Save\n",
      "Internship Opportunities: Future of Work, User Experience/HCI Researcher\n",
      "Cambridge, Cambridgeshire, United Kingdom\n",
      "Research\n",
      "Feb 1, 2021\n",
      "We have an exciting opportunity for a User Experience/Human-Computer Interaction (HCI) Research intern to work with us at Microsoft Research Cambridge as part of the Future of Work team. This role is\n",
      "Save\n",
      "2022 Graduates Summer Intern - Program Manager Intern - C+AI - Beijing\n",
      "Beijing, Beijing, China\n",
      "Engineering\n",
      "Feb 8, 2021\n",
      "Microsoft mission is to, “Empower every person and every organization on the planet to achieve more,” Building on this mission, Cloud+ AI seeks to enable organizations in two core ways\n",
      "Save\n",
      "2022 Graduates Summer Intern - Customer Facing Technology Pillar Intern - GSMO - Shanghai\n",
      "Shanghai, Shanghai, China\n",
      "Technical Sales\n",
      "Feb 8, 2021\n",
      "Microsoft Aspire Experience (MAE) Program Microsoft Aspire Experience is a powerful two-year learning experience especially designed or new graduate joining Microsoft directly out of University.\n",
      "Save\n",
      "2022 Graduates Summer Intern - Sales Pillar Intern - GSMO - Shanghai\n",
      "Shanghai, Shanghai, China\n",
      "Sales\n",
      "Feb 8, 2021\n",
      "Microsoft Aspire Experience (MAE) Program Microsoft Aspire Experience is a powerful two-year learning experience especially designed or new graduate joining Microsoft directly out of University.\n",
      "Save\n",
      "2022 Graduates Summer Intern - Software Engineer Intern - C+AI - Beijing\n",
      "Beijing, Beijing, China\n",
      "Engineering\n",
      "Feb 8, 2021\n",
      "Microsoft mission is to, “Empower every person and every organization on the planet to achieve more,” Building on this mission, Cloud+ AI seeks to enable organizations in two core ways\n",
      "Save\n",
      "2021 Graduates-Associate Researcher/Researcher-MSRA-Shanghai\n",
      "Shanghai, Shanghai, China\n",
      "Research\n",
      "Aug 12, 2020\n",
      "Microsoft Research Asia, Microsoft’s fundamental research arm in the Asia Pacific region, was founded in 1998 in Beijing. By attracting best talent from Asia and around the globe, Microsoft\n",
      "Save\n",
      "Research Intern - Azure for Operators\n",
      "Redmond, Washington, United States\n",
      "Research\n",
      "Dec 15, 2020\n",
      "Virtual Internship Participation in the Research Internship Program requires that you are physically located in the United States or Canada for the duration of the internship. Research Internships at\n",
      "Save\n",
      "Full-Time and Internship MBA Graduate Opportunities in Japan\n",
      "Tokyo, Tokyo-To, Japan\n",
      "Marketing\n",
      "Jul 15, 2020\n",
      "Are you excited to contribute to the business success of Microsoft, and want a career like no other in a country that is well-known for amazing and innovative technology – then this is the\n",
      "Save\n",
      "Full Time Opportunities for PhD Students - Cleared Software Engineer CTJ\n",
      "Engineering\n",
      "Aug 24, 2020\n",
      "Do you want to be at the heart of cloud computing? Do you want to work on a meaningful and impactful project and make a difference to the US government and country? Microsoft Cloud Services are\n",
      "Job available in 4 locations\n",
      "Save\n",
      "Internship Opportunities for PhD Students - Researcher\n",
      "Redmond, Washington, United States\n",
      "Research\n",
      "Aug 28, 2020\n",
      "Microsoft works with the world’s best researchers, moving with the current of technology as it rapidly evolves. Together we share the motivation to seek innovative solutions to the world’s\n",
      "Save\n",
      "2021 Graduates - Technical Sales/Sales - GSMO - Shanghai\n",
      "Shanghai, Shanghai, China\n",
      "Sales\n",
      "Aug 3, 2020\n",
      "Microsoft Aspire Experience (MAE) Program Aspire is a singular and unified experience designed to nurture and retain future valuable talent resource in Microsoft. It is a two-year roadmap designed to\n",
      "Save\n",
      "2021 MBA Graduates – Customer Facing Technology - Services - GSMO - Beijing\n",
      "Shanghai, Shanghai, China\n",
      "Services\n",
      "Jul 31, 2020\n",
      "Microsoft Aspire Experience (MAE) MBA Program Microsoft Aspire MBA is a 24-month experience focused on building the skills needed to accelerate the MBA hires ability to make a meaningful impact at\n",
      "Save\n",
      "2021 Graduates - Software Engineer - STCA - Beijing\n",
      "Beijing, Beijing, China\n",
      "Engineering\n",
      "Jan 1, 2021\n",
      "As an integral part of the global team working on core products with core technology, Software Technology Center Asia (STCA) plays a significant role contributing to overall Microsoft applications and\n",
      "Save\n",
      "Internship opportunities: FPGA technologies for the Cloud\n",
      "Cambridge, Cambridgeshire, United Kingdom\n",
      "Research\n",
      "Dec 14, 2020\n",
      "The fast growth of the cloud is continuously driving hardware efficiency and performance in cloud infrastructure. Our work is exploring the technologies beyond traditional computer systems. Hardware\n",
      "Save\n",
      "Microsoft Taiwan Aspire Experience 2021 – MBA – Customer-Facing Technology Pillar\n",
      "Taipei, Taipei City, Taiwan\n",
      "Services\n",
      "Oct 26, 2020\n",
      "Microsoft Aspire MBA is a 24-month experience focused on building the skills needed to accelerate the MBA hires ability to make a meaningful impact at Microsoft. It is delivered through a mix of\n",
      "Save\n",
      "Internship Opportunities: Confidential Computing\n",
      "Cambridge, Cambridgeshire, United Kingdom\n",
      "Research\n",
      "Jan 19, 2021\n",
      "Security and privacy are arguably the most significant concern for enterprises and consumers using public cloud platforms. The Confidential Computing group at Microsoft Research Cambridge has been\n",
      "Save\n",
      "Internship opportunities: Health Intelligence – User Experience Research Intern\n",
      "Cambridge, Cambridgeshire, United Kingdom\n",
      "Research\n",
      "Dec 8, 2020\n",
      "The Health Intelligence team at MSR Cambridge is dedicated to advancing Healthcare and Life Sciences with AI. Our mission is to solve these challenges following Microsoft’s AI Principles of:\n",
      "Save\n",
      "Full Time Opportunities for PhD Students or Recent Graduates – MAIDAP Data Scientist\n",
      "Cambridge, Massachusetts, United States\n",
      "Engineering\n",
      "Nov 13, 2020\n",
      "A new technology paradigm is emerging, one with an intelligent cloud and an intelligent edge. To foster Microsoft’s leadership in this field, Microsoft has launched a ground-breaking program to\n",
      "Save\n",
      "Full Time Opportunities for PhD Students or Recent Graduates: Machine Learning\n",
      "Redmond, Washington, United States\n",
      "Engineering\n",
      "Aug 28, 2020\n",
      "At Microsoft our vision is to make machine learning and artificial intelligence on the cloud accessible to every enterprise, data scientist, developer, information worker, consumer, and device\n",
      "Save\n"
     ]
    }
   ],
   "source": [
    "path1 = driver.find_element_by_xpath(\"//ul[@data-ph-at-id='jobs-list']\")\n",
    "print(path1)\n",
    "print(type(path1))\n",
    "# this will return a Selenium webdrier element\n",
    "# to see what is its content, use \"element_name.text\"\n",
    "print(path1.text)"
   ]
  },
  {
   "cell_type": "code",
   "execution_count": 4,
   "metadata": {},
   "outputs": [
    {
     "name": "stdout",
     "output_type": "stream",
     "text": [
      "<class 'list'>\n"
     ]
    },
    {
     "ename": "AttributeError",
     "evalue": "'list' object has no attribute 'text'",
     "output_type": "error",
     "traceback": [
      "\u001b[1;31m---------------------------------------------------------------------------\u001b[0m",
      "\u001b[1;31mAttributeError\u001b[0m                            Traceback (most recent call last)",
      "\u001b[1;32m<ipython-input-4-37d452983963>\u001b[0m in \u001b[0;36m<module>\u001b[1;34m\u001b[0m\n\u001b[0;32m      1\u001b[0m \u001b[0mpath2\u001b[0m \u001b[1;33m=\u001b[0m \u001b[0mdriver\u001b[0m\u001b[1;33m.\u001b[0m\u001b[0mfind_elements_by_xpath\u001b[0m\u001b[1;33m(\u001b[0m\u001b[1;34m\"//ul[@data-ph-at-id='jobs-list']\"\u001b[0m\u001b[1;33m)\u001b[0m\u001b[1;33m\u001b[0m\u001b[1;33m\u001b[0m\u001b[0m\n\u001b[0;32m      2\u001b[0m \u001b[0mprint\u001b[0m\u001b[1;33m(\u001b[0m\u001b[0mtype\u001b[0m\u001b[1;33m(\u001b[0m\u001b[0mpath2\u001b[0m\u001b[1;33m)\u001b[0m\u001b[1;33m)\u001b[0m\u001b[1;33m\u001b[0m\u001b[1;33m\u001b[0m\u001b[0m\n\u001b[1;32m----> 3\u001b[1;33m \u001b[0mprint\u001b[0m\u001b[1;33m(\u001b[0m\u001b[0mpath2\u001b[0m\u001b[1;33m.\u001b[0m\u001b[0mtext\u001b[0m\u001b[1;33m)\u001b[0m\u001b[1;33m\u001b[0m\u001b[1;33m\u001b[0m\u001b[0m\n\u001b[0m",
      "\u001b[1;31mAttributeError\u001b[0m: 'list' object has no attribute 'text'"
     ]
    }
   ],
   "source": [
    "path2 = driver.find_elements_by_xpath(\"//ul[@data-ph-at-id='jobs-list']\")\n",
    "print(type(path2))\n",
    "print(path2.text)"
   ]
  },
  {
   "cell_type": "markdown",
   "metadata": {},
   "source": [
    "Explain the reason for above error:"
   ]
  },
  {
   "cell_type": "code",
   "execution_count": 5,
   "metadata": {},
   "outputs": [
    {
     "name": "stdout",
     "output_type": "stream",
     "text": [
      "<selenium.webdriver.remote.webelement.WebElement (session=\"cc99fbd372b7f306dc6bd197c4ab253e\", element=\"dd7e924c-6643-4d08-82c3-19dffa247eac\")>\n",
      "Internship Opportunities: Spreadsheet Experience and Technology\n",
      "Cambridge, Cambridgeshire, United Kingdom\n",
      "Research\n",
      "Dec 8, 2020\n",
      "The soul of the spreadsheet is the grid and its formulas.  Spreadsheets are the world’s most widely-used programming technology – but they also embody apparently-fundamental limitations.\n",
      "Save\n"
     ]
    }
   ],
   "source": [
    "path3 = path2[0].find_element_by_tag_name('li')\n",
    "print(path3)\n",
    "print(path3.text)"
   ]
  },
  {
   "cell_type": "code",
   "execution_count": 6,
   "metadata": {},
   "outputs": [
    {
     "name": "stdout",
     "output_type": "stream",
     "text": [
      "================================\n",
      "Internship Opportunities: Spreadsheet Experience and Technology\n",
      "Cambridge, Cambridgeshire, United Kingdom\n",
      "Research\n",
      "Dec 8, 2020\n",
      "The soul of the spreadsheet is the grid and its formulas.  Spreadsheets are the world’s most widely-used programming technology – but they also embody apparently-fundamental limitations.\n",
      "Save\n",
      "===============================\n",
      "\n",
      "================================\n",
      "Internship Opportunities: Future of Work, User Experience/HCI Researcher\n",
      "Cambridge, Cambridgeshire, United Kingdom\n",
      "Research\n",
      "Feb 1, 2021\n",
      "We have an exciting opportunity for a User Experience/Human-Computer Interaction (HCI) Research intern to work with us at Microsoft Research Cambridge as part of the Future of Work team. This role is\n",
      "Save\n",
      "===============================\n",
      "\n",
      "================================\n",
      "2022 Graduates Summer Intern - Program Manager Intern - C+AI - Beijing\n",
      "Beijing, Beijing, China\n",
      "Engineering\n",
      "Feb 8, 2021\n",
      "Microsoft mission is to, “Empower every person and every organization on the planet to achieve more,” Building on this mission, Cloud+ AI seeks to enable organizations in two core ways\n",
      "Save\n",
      "===============================\n",
      "\n",
      "================================\n",
      "2022 Graduates Summer Intern - Customer Facing Technology Pillar Intern - GSMO - Shanghai\n",
      "Shanghai, Shanghai, China\n",
      "Technical Sales\n",
      "Feb 8, 2021\n",
      "Microsoft Aspire Experience (MAE) Program Microsoft Aspire Experience is a powerful two-year learning experience especially designed or new graduate joining Microsoft directly out of University.\n",
      "Save\n",
      "===============================\n",
      "\n",
      "================================\n",
      "2022 Graduates Summer Intern - Sales Pillar Intern - GSMO - Shanghai\n",
      "Shanghai, Shanghai, China\n",
      "Sales\n",
      "Feb 8, 2021\n",
      "Microsoft Aspire Experience (MAE) Program Microsoft Aspire Experience is a powerful two-year learning experience especially designed or new graduate joining Microsoft directly out of University.\n",
      "Save\n",
      "===============================\n",
      "\n",
      "================================\n",
      "2022 Graduates Summer Intern - Software Engineer Intern - C+AI - Beijing\n",
      "Beijing, Beijing, China\n",
      "Engineering\n",
      "Feb 8, 2021\n",
      "Microsoft mission is to, “Empower every person and every organization on the planet to achieve more,” Building on this mission, Cloud+ AI seeks to enable organizations in two core ways\n",
      "Save\n",
      "===============================\n",
      "\n",
      "================================\n",
      "2021 Graduates-Associate Researcher/Researcher-MSRA-Shanghai\n",
      "Shanghai, Shanghai, China\n",
      "Research\n",
      "Aug 12, 2020\n",
      "Microsoft Research Asia, Microsoft’s fundamental research arm in the Asia Pacific region, was founded in 1998 in Beijing. By attracting best talent from Asia and around the globe, Microsoft\n",
      "Save\n",
      "===============================\n",
      "\n",
      "================================\n",
      "Research Intern - Azure for Operators\n",
      "Redmond, Washington, United States\n",
      "Research\n",
      "Dec 15, 2020\n",
      "Virtual Internship Participation in the Research Internship Program requires that you are physically located in the United States or Canada for the duration of the internship. Research Internships at\n",
      "Save\n",
      "===============================\n",
      "\n",
      "================================\n",
      "Full-Time and Internship MBA Graduate Opportunities in Japan\n",
      "Tokyo, Tokyo-To, Japan\n",
      "Marketing\n",
      "Jul 15, 2020\n",
      "Are you excited to contribute to the business success of Microsoft, and want a career like no other in a country that is well-known for amazing and innovative technology – then this is the\n",
      "Save\n",
      "===============================\n",
      "\n",
      "================================\n",
      "Full Time Opportunities for PhD Students - Cleared Software Engineer CTJ\n",
      "Engineering\n",
      "Aug 24, 2020\n",
      "Do you want to be at the heart of cloud computing? Do you want to work on a meaningful and impactful project and make a difference to the US government and country? Microsoft Cloud Services are\n",
      "Job available in 4 locations\n",
      "Save\n",
      "===============================\n",
      "\n",
      "================================\n",
      "\n",
      "===============================\n",
      "\n",
      "================================\n",
      "\n",
      "===============================\n",
      "\n",
      "================================\n",
      "\n",
      "===============================\n",
      "\n",
      "================================\n",
      "\n",
      "===============================\n",
      "\n",
      "================================\n",
      "Internship Opportunities for PhD Students - Researcher\n",
      "Redmond, Washington, United States\n",
      "Research\n",
      "Aug 28, 2020\n",
      "Microsoft works with the world’s best researchers, moving with the current of technology as it rapidly evolves. Together we share the motivation to seek innovative solutions to the world’s\n",
      "Save\n",
      "===============================\n",
      "\n",
      "================================\n",
      "2021 Graduates - Technical Sales/Sales - GSMO - Shanghai\n",
      "Shanghai, Shanghai, China\n",
      "Sales\n",
      "Aug 3, 2020\n",
      "Microsoft Aspire Experience (MAE) Program Aspire is a singular and unified experience designed to nurture and retain future valuable talent resource in Microsoft. It is a two-year roadmap designed to\n",
      "Save\n",
      "===============================\n",
      "\n",
      "================================\n",
      "2021 MBA Graduates – Customer Facing Technology - Services - GSMO - Beijing\n",
      "Shanghai, Shanghai, China\n",
      "Services\n",
      "Jul 31, 2020\n",
      "Microsoft Aspire Experience (MAE) MBA Program Microsoft Aspire MBA is a 24-month experience focused on building the skills needed to accelerate the MBA hires ability to make a meaningful impact at\n",
      "Save\n",
      "===============================\n",
      "\n",
      "================================\n",
      "2021 Graduates - Software Engineer - STCA - Beijing\n",
      "Beijing, Beijing, China\n",
      "Engineering\n",
      "Jan 1, 2021\n",
      "As an integral part of the global team working on core products with core technology, Software Technology Center Asia (STCA) plays a significant role contributing to overall Microsoft applications and\n",
      "Save\n",
      "===============================\n",
      "\n",
      "================================\n",
      "Internship opportunities: FPGA technologies for the Cloud\n",
      "Cambridge, Cambridgeshire, United Kingdom\n",
      "Research\n",
      "Dec 14, 2020\n",
      "The fast growth of the cloud is continuously driving hardware efficiency and performance in cloud infrastructure. Our work is exploring the technologies beyond traditional computer systems. Hardware\n",
      "Save\n",
      "===============================\n",
      "\n",
      "================================\n",
      "Microsoft Taiwan Aspire Experience 2021 – MBA – Customer-Facing Technology Pillar\n",
      "Taipei, Taipei City, Taiwan\n",
      "Services\n",
      "Oct 26, 2020\n",
      "Microsoft Aspire MBA is a 24-month experience focused on building the skills needed to accelerate the MBA hires ability to make a meaningful impact at Microsoft. It is delivered through a mix of\n",
      "Save\n",
      "===============================\n",
      "\n",
      "================================\n",
      "Internship Opportunities: Confidential Computing\n",
      "Cambridge, Cambridgeshire, United Kingdom\n",
      "Research\n",
      "Jan 19, 2021\n",
      "Security and privacy are arguably the most significant concern for enterprises and consumers using public cloud platforms. The Confidential Computing group at Microsoft Research Cambridge has been\n",
      "Save\n",
      "===============================\n",
      "\n",
      "================================\n",
      "Internship opportunities: Health Intelligence – User Experience Research Intern\n",
      "Cambridge, Cambridgeshire, United Kingdom\n",
      "Research\n",
      "Dec 8, 2020\n",
      "The Health Intelligence team at MSR Cambridge is dedicated to advancing Healthcare and Life Sciences with AI. Our mission is to solve these challenges following Microsoft’s AI Principles of:\n",
      "Save\n",
      "===============================\n",
      "\n",
      "================================\n",
      "Full Time Opportunities for PhD Students or Recent Graduates – MAIDAP Data Scientist\n",
      "Cambridge, Massachusetts, United States\n",
      "Engineering\n",
      "Nov 13, 2020\n",
      "A new technology paradigm is emerging, one with an intelligent cloud and an intelligent edge. To foster Microsoft’s leadership in this field, Microsoft has launched a ground-breaking program to\n",
      "Save\n",
      "===============================\n",
      "\n",
      "================================\n",
      "Full Time Opportunities for PhD Students or Recent Graduates: Machine Learning\n",
      "Redmond, Washington, United States\n",
      "Engineering\n",
      "Aug 28, 2020\n",
      "At Microsoft our vision is to make machine learning and artificial intelligence on the cloud accessible to every enterprise, data scientist, developer, information worker, consumer, and device\n",
      "Save\n",
      "===============================\n",
      "\n"
     ]
    }
   ],
   "source": [
    "path4 = path2[0].find_elements_by_tag_name('li')\n",
    "# remember path4 is a list\n",
    "for i in path4:\n",
    "    print(\"================================\\n\"+i.text+\"\\n===============================\\n\")"
   ]
  },
  {
   "cell_type": "raw",
   "metadata": {},
   "source": [
    "Now we can see that using \"....element.....\" returns the first element that qualifies the criteria, \"....elements...\" returns all the elements that qualifies the criteria\n"
   ]
  },
  {
   "cell_type": "code",
   "execution_count": 7,
   "metadata": {},
   "outputs": [
    {
     "ename": "NameError",
     "evalue": "name 'By' is not defined",
     "output_type": "error",
     "traceback": [
      "\u001b[1;31m---------------------------------------------------------------------------\u001b[0m",
      "\u001b[1;31mNameError\u001b[0m                                 Traceback (most recent call last)",
      "\u001b[1;32m<ipython-input-7-6dc380c52987>\u001b[0m in \u001b[0;36m<module>\u001b[1;34m\u001b[0m\n\u001b[1;32m----> 1\u001b[1;33m \u001b[0mpath4\u001b[0m \u001b[1;33m=\u001b[0m \u001b[0mdriver\u001b[0m\u001b[1;33m.\u001b[0m\u001b[0mfind_element\u001b[0m\u001b[1;33m(\u001b[0m\u001b[0mBy\u001b[0m\u001b[1;33m.\u001b[0m\u001b[0mXPATH\u001b[0m\u001b[1;33m,\u001b[0m \u001b[1;34m\"//ul[@data-ph-at-id='jobs-list']//li[@data-ph-at-id='jobs-list-item']\"\u001b[0m\u001b[1;33m)\u001b[0m\u001b[1;33m\u001b[0m\u001b[1;33m\u001b[0m\u001b[0m\n\u001b[0m\u001b[0;32m      2\u001b[0m \u001b[1;31m# this would give an error, what is that error?\u001b[0m\u001b[1;33m\u001b[0m\u001b[1;33m\u001b[0m\u001b[1;33m\u001b[0m\u001b[0m\n",
      "\u001b[1;31mNameError\u001b[0m: name 'By' is not defined"
     ]
    }
   ],
   "source": [
    "path4 = driver.find_element(By.XPATH, \"//ul[@data-ph-at-id='jobs-list']//li[@data-ph-at-id='jobs-list-item']\")\n",
    "# this would give an error, what is that error?"
   ]
  },
  {
   "cell_type": "code",
   "execution_count": 8,
   "metadata": {},
   "outputs": [
    {
     "name": "stdout",
     "output_type": "stream",
     "text": [
      "Internship Opportunities: Spreadsheet Experience and Technology\n",
      "Cambridge, Cambridgeshire, United Kingdom\n",
      "Research\n",
      "Dec 8, 2020\n",
      "The soul of the spreadsheet is the grid and its formulas.  Spreadsheets are the world’s most widely-used programming technology – but they also embody apparently-fundamental limitations.\n",
      "Save\n"
     ]
    }
   ],
   "source": [
    "from selenium.webdriver.common.by import By\n",
    "path4 = driver.find_element(By.XPATH, \"//ul[@data-ph-at-id='jobs-list']//li[@data-ph-at-id='jobs-list-item']\")\n",
    "print(path4.text)"
   ]
  },
  {
   "cell_type": "markdown",
   "metadata": {},
   "source": [
    "#### perform the above using \".....elements...\""
   ]
  },
  {
   "cell_type": "markdown",
   "metadata": {},
   "source": [
    "### 2. extracting the content from the element:\n"
   ]
  },
  {
   "cell_type": "markdown",
   "metadata": {},
   "source": [
    "we have already used element_name.text to extract the content"
   ]
  },
  {
   "cell_type": "markdown",
   "metadata": {},
   "source": [
    "### 3. extracting any attribute from the element (for example: you will be extracting href attribute from tag)"
   ]
  },
  {
   "cell_type": "code",
   "execution_count": 9,
   "metadata": {},
   "outputs": [
    {
     "name": "stdout",
     "output_type": "stream",
     "text": [
      "https://careers.microsoft.com/students/us/en/job/946737/Internship-Opportunities-Spreadsheet-Experience-and-Technology\n"
     ]
    }
   ],
   "source": [
    "# linkElement = driver.find_element_by_xpath(\"//ul[@data-ph-at-id='jobs-list']//li[@data-ph-at-id='jobs-list-item']/a\")\n",
    "# above line will not work, why?\n",
    "linkPath = driver.find_element_by_xpath(\"//ul[@data-ph-at-id='jobs-list']//li[@data-ph-at-id='jobs-list-item']\")\n",
    "linkElement = linkPath.find_element_by_tag_name('a')\n",
    "link = linkElement.get_attribute('href')\n",
    "print(link)"
   ]
  },
  {
   "cell_type": "markdown",
   "metadata": {},
   "source": [
    "### 4. clicking an element:\n"
   ]
  },
  {
   "cell_type": "markdown",
   "metadata": {},
   "source": [
    "1. we can perform a lot of touch-actions in selenium for example: tap, double tap, flick, scroll, click, tap and hold, etc\n",
    "2. the most useful of them is click(), so useful that it has a different implementation than others"
   ]
  },
  {
   "cell_type": "code",
   "execution_count": 10,
   "metadata": {},
   "outputs": [],
   "source": [
    "linkElement.click()"
   ]
  },
  {
   "cell_type": "markdown",
   "metadata": {},
   "source": [
    "Now we have all the different parts that is required to get the list of all jobs from the website specified, since this is a workshop we want you to code right now and if you encounter a problem that you are not able to solve on your own please ask"
   ]
  },
  {
   "cell_type": "code",
   "execution_count": null,
   "metadata": {},
   "outputs": [],
   "source": []
  },
  {
   "cell_type": "code",
   "execution_count": null,
   "metadata": {},
   "outputs": [],
   "source": []
  },
  {
   "cell_type": "code",
   "execution_count": null,
   "metadata": {},
   "outputs": [],
   "source": []
  }
 ],
 "metadata": {
  "kernelspec": {
   "display_name": "Python 3",
   "language": "python",
   "name": "python3"
  },
  "language_info": {
   "codemirror_mode": {
    "name": "ipython",
    "version": 3
   },
   "file_extension": ".py",
   "mimetype": "text/x-python",
   "name": "python",
   "nbconvert_exporter": "python",
   "pygments_lexer": "ipython3",
   "version": "3.8.3"
  }
 },
 "nbformat": 4,
 "nbformat_minor": 4
}
