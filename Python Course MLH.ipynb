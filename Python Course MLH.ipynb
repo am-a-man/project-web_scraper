{
 "cells": [
  {
   "cell_type": "markdown",
   "metadata": {},
   "source": [
    "The Python programming language has a wide range of syntactical constructions, standard library functions, and interactive development environment features. ***Fortunately,\n",
    "you can ignore most of that; you just need to learn enough to write some handy little programs***"
   ]
  },
  {
   "cell_type": "markdown",
   "metadata": {},
   "source": [
    "You will, however, have to learn some basic programming concepts\n",
    "before you can do anything. Like a wizard-in-training, you might think these concepts seem arcane and tedious, but with some knowledge and practice, you’ll be able to command your computer like a magic wand to perform incredible feats"
   ]
  },
  {
   "cell_type": "markdown",
   "metadata": {},
   "source": [
    "\n"
   ]
  },
  {
   "cell_type": "markdown",
   "metadata": {},
   "source": [
    "## Topic 1: installing python and environment to run"
   ]
  },
  {
   "cell_type": "markdown",
   "metadata": {},
   "source": [
    "\n",
    "\n",
    "d\n"
   ]
  },
  {
   "cell_type": "code",
   "execution_count": null,
   "metadata": {},
   "outputs": [],
   "source": []
  },
  {
   "cell_type": "code",
   "execution_count": null,
   "metadata": {},
   "outputs": [],
   "source": []
  },
  {
   "cell_type": "markdown",
   "metadata": {},
   "source": [
    "## Topic 2: Expressions\n",
    "\n"
   ]
  },
  {
   "cell_type": "code",
   "execution_count": 3,
   "metadata": {
    "scrolled": true
   },
   "outputs": [
    {
     "data": {
      "text/plain": [
       "4"
      ]
     },
     "execution_count": 3,
     "metadata": {},
     "output_type": "execute_result"
    }
   ],
   "source": [
    "2+2"
   ]
  },
  {
   "cell_type": "code",
   "execution_count": 4,
   "metadata": {},
   "outputs": [
    {
     "data": {
      "text/plain": [
       "885"
      ]
     },
     "execution_count": 4,
     "metadata": {},
     "output_type": "execute_result"
    }
   ],
   "source": [
    "897-12"
   ]
  },
  {
   "cell_type": "code",
   "execution_count": 5,
   "metadata": {},
   "outputs": [
    {
     "data": {
      "text/plain": [
       "1.8148148148148149"
      ]
     },
     "execution_count": 5,
     "metadata": {},
     "output_type": "execute_result"
    }
   ],
   "source": [
    "98/54"
   ]
  },
  {
   "cell_type": "code",
   "execution_count": 6,
   "metadata": {},
   "outputs": [
    {
     "data": {
      "text/plain": [
       "1"
      ]
     },
     "execution_count": 6,
     "metadata": {},
     "output_type": "execute_result"
    }
   ],
   "source": [
    "98//54"
   ]
  },
  {
   "cell_type": "code",
   "execution_count": 7,
   "metadata": {},
   "outputs": [
    {
     "data": {
      "text/plain": [
       "1024"
      ]
     },
     "execution_count": 7,
     "metadata": {},
     "output_type": "execute_result"
    }
   ],
   "source": [
    "2**10"
   ]
  },
  {
   "cell_type": "code",
   "execution_count": 8,
   "metadata": {},
   "outputs": [
    {
     "data": {
      "text/plain": [
       "338"
      ]
     },
     "execution_count": 8,
     "metadata": {},
     "output_type": "execute_result"
    }
   ],
   "source": [
    "26*13"
   ]
  },
  {
   "cell_type": "code",
   "execution_count": 9,
   "metadata": {},
   "outputs": [
    {
     "data": {
      "text/plain": [
       "2.0"
      ]
     },
     "execution_count": 9,
     "metadata": {},
     "output_type": "execute_result"
    }
   ],
   "source": [
    "26/13"
   ]
  },
  {
   "cell_type": "markdown",
   "metadata": {},
   "source": [
    ">### operators\n",
    ">>#### 1 . exponents (**)\n",
    ">>#### 2. modulus (^)\n",
    ">>#### 3. Integer division / floor quotient (//)\n",
    ">>#### 4. division (/)\n",
    ">>#### 5. multiplication (*)\n",
    ">>#### 6. substraction (-)\n",
    ">>#### 7. addition (+)\n",
    "\n"
   ]
  },
  {
   "cell_type": "markdown",
   "metadata": {},
   "source": [
    "<##insert data if you want to else  delete>"
   ]
  },
  {
   "cell_type": "markdown",
   "metadata": {},
   "source": [
    "## Topic 3: Data Types"
   ]
  },
  {
   "cell_type": "markdown",
   "metadata": {},
   "source": [
    ">### 1. int\n",
    ">### 2. float\n",
    ">### 3. string\n",
    ">### 4. boolean\n"
   ]
  },
  {
   "cell_type": "code",
   "execution_count": 16,
   "metadata": {},
   "outputs": [
    {
     "data": {
      "text/plain": [
       "float"
      ]
     },
     "execution_count": 16,
     "metadata": {},
     "output_type": "execute_result"
    }
   ],
   "source": [
    "type(125/5)"
   ]
  },
  {
   "cell_type": "code",
   "execution_count": 13,
   "metadata": {},
   "outputs": [
    {
     "data": {
      "text/plain": [
       "int"
      ]
     },
     "execution_count": 13,
     "metadata": {},
     "output_type": "execute_result"
    }
   ],
   "source": [
    "type(125)"
   ]
  },
  {
   "cell_type": "code",
   "execution_count": 14,
   "metadata": {},
   "outputs": [
    {
     "name": "stdout",
     "output_type": "stream",
     "text": [
      "25.0\n"
     ]
    }
   ],
   "source": [
    "print(125/5)"
   ]
  },
  {
   "cell_type": "code",
   "execution_count": 17,
   "metadata": {},
   "outputs": [
    {
     "data": {
      "text/plain": [
       "str"
      ]
     },
     "execution_count": 17,
     "metadata": {},
     "output_type": "execute_result"
    }
   ],
   "source": [
    "type('5')"
   ]
  },
  {
   "cell_type": "code",
   "execution_count": 18,
   "metadata": {},
   "outputs": [
    {
     "data": {
      "text/plain": [
       "str"
      ]
     },
     "execution_count": 18,
     "metadata": {},
     "output_type": "execute_result"
    }
   ],
   "source": [
    "type('55445678')"
   ]
  },
  {
   "cell_type": "code",
   "execution_count": 19,
   "metadata": {},
   "outputs": [
    {
     "data": {
      "text/plain": [
       "str"
      ]
     },
     "execution_count": 19,
     "metadata": {},
     "output_type": "execute_result"
    }
   ],
   "source": [
    "type(\"454\")"
   ]
  },
  {
   "cell_type": "code",
   "execution_count": 20,
   "metadata": {},
   "outputs": [
    {
     "data": {
      "text/plain": [
       "str"
      ]
     },
     "execution_count": 20,
     "metadata": {},
     "output_type": "execute_result"
    }
   ],
   "source": [
    "type('''1234654745''')"
   ]
  },
  {
   "cell_type": "markdown",
   "metadata": {},
   "source": [
    "## Topic 4: Varibales\n",
    "A variable is like a box in the computer’s memory where you can store a single value. If you want to use the result of an evaluated expression later in your program, you can save it inside a variable"
   ]
  },
  {
   "cell_type": "markdown",
   "metadata": {},
   "source": [
    "\n",
    "\n",
    "some variable rules:\n",
    "1.   It can be only one word.                   \n",
    "2.   It can use only letters, numbers, and the underscore (_) character. \n",
    "3.   It can’t begin with a number."
   ]
  },
  {
   "cell_type": "markdown",
   "metadata": {},
   "source": [
    "there are no special keywords to declare a varible"
   ]
  },
  {
   "cell_type": "code",
   "execution_count": 24,
   "metadata": {},
   "outputs": [],
   "source": [
    "var1 = 125"
   ]
  },
  {
   "cell_type": "code",
   "execution_count": 28,
   "metadata": {},
   "outputs": [],
   "source": [
    "#var1 var = 145     ##causes error  ##uncomment to perform"
   ]
  },
  {
   "cell_type": "code",
   "execution_count": 25,
   "metadata": {},
   "outputs": [],
   "source": [
    "_var2 = 6865"
   ]
  },
  {
   "cell_type": "code",
   "execution_count": 27,
   "metadata": {},
   "outputs": [],
   "source": [
    "#4var = 565        #causes error #uncomment to perform"
   ]
  },
  {
   "cell_type": "code",
   "execution_count": 29,
   "metadata": {},
   "outputs": [
    {
     "name": "stdout",
     "output_type": "stream",
     "text": [
      "125\n"
     ]
    }
   ],
   "source": [
    "print(var1)"
   ]
  },
  {
   "cell_type": "markdown",
   "metadata": {},
   "source": [
    "## Topic 6: functions introduction"
   ]
  },
  {
   "cell_type": "markdown",
   "metadata": {},
   "source": [
    "###### keyword for defining function : def\n",
    "###### return statement : returns a value from the function"
   ]
  },
  {
   "cell_type": "code",
   "execution_count": 91,
   "metadata": {},
   "outputs": [],
   "source": [
    "def function1():\n",
    "    name = input(\"enter your name\")\n",
    "    print(\"this is your name: \"+name)\n",
    "    print(\"this is the datatype of 'name' variable: \", type(name))\n",
    "    \n",
    "    age = input(\"enter your age: \")\n",
    "    print(\"this is your age: \"+ age)\n",
    "    print(\"this is the datatype of 'age' varible: \", type(age))"
   ]
  },
  {
   "cell_type": "code",
   "execution_count": 92,
   "metadata": {},
   "outputs": [
    {
     "name": "stdout",
     "output_type": "stream",
     "text": [
      "enter your nameaman\n",
      "this is your name: aman\n",
      "this is the datatype of 'name' variable:  <class 'str'>\n",
      "enter your age: 21\n",
      "this is your age: 21\n",
      "this is the datatype of 'age' varible:  <class 'str'>\n"
     ]
    }
   ],
   "source": [
    "function1()"
   ]
  },
  {
   "cell_type": "markdown",
   "metadata": {},
   "source": [
    "important part of this program is that the return value of the input function to assign value to \"age\" variablehas no way of knowing that the varible is going to be used as a number\n",
    "\n",
    "How the input is then converted to required form is discussed below:"
   ]
  },
  {
   "cell_type": "code",
   "execution_count": null,
   "metadata": {},
   "outputs": [],
   "source": []
  },
  {
   "cell_type": "code",
   "execution_count": 124,
   "metadata": {},
   "outputs": [],
   "source": [
    "def increment(var):\n",
    "    var+=1\n",
    "    return var"
   ]
  },
  {
   "cell_type": "code",
   "execution_count": 125,
   "metadata": {},
   "outputs": [
    {
     "name": "stdout",
     "output_type": "stream",
     "text": [
      "5\n"
     ]
    }
   ],
   "source": [
    "var_n=4\n",
    "var_n=increment(var_n)\n",
    "print(var_n)"
   ]
  },
  {
   "cell_type": "code",
   "execution_count": null,
   "metadata": {},
   "outputs": [],
   "source": []
  },
  {
   "cell_type": "code",
   "execution_count": null,
   "metadata": {},
   "outputs": [],
   "source": []
  },
  {
   "cell_type": "markdown",
   "metadata": {},
   "source": [
    "\n",
    "###### arguments of function should be defined before calling the function \n",
    "###### if the function is using global variables, it should be defined before the function is defined, this would not raise any error but the variable will be 'None'\n"
   ]
  },
  {
   "cell_type": "code",
   "execution_count": 109,
   "metadata": {},
   "outputs": [],
   "source": [
    "def function2(var1):\n",
    "    var1=undefined_var/10\n",
    "    return var1"
   ]
  },
  {
   "cell_type": "code",
   "execution_count": 110,
   "metadata": {},
   "outputs": [],
   "source": [
    "undefined_var=25\n",
    "var1 = function2(54)"
   ]
  },
  {
   "cell_type": "code",
   "execution_count": 111,
   "metadata": {},
   "outputs": [
    {
     "name": "stdout",
     "output_type": "stream",
     "text": [
      "2.5\n"
     ]
    }
   ],
   "source": [
    "print(var1)"
   ]
  },
  {
   "cell_type": "code",
   "execution_count": null,
   "metadata": {},
   "outputs": [],
   "source": []
  },
  {
   "cell_type": "markdown",
   "metadata": {},
   "source": [
    "## Topic 7: Inbuilt functions\n"
   ]
  },
  {
   "cell_type": "markdown",
   "metadata": {},
   "source": [
    ">### 1. print()\n",
    "The print() function displays the string value inside the parentheses on the screen.\n",
    ">### 2. input()\n",
    "The input() function waits for the user to type some text on the keyboard and press enter\n",
    ">### 3. len()\n",
    "You can pass the len() function a string value (or a variable containing a string), and the function evaluates to the integer value of the number of characters in that string\n",
    ">### 4. str(), int()\n",
    "The str(), int(), and float() functions will evaluate to the string, integer, and floating-point forms of the value you pass\n",
    "\n",
    ">### etc. many others in other topics"
   ]
  },
  {
   "cell_type": "code",
   "execution_count": 30,
   "metadata": {},
   "outputs": [
    {
     "name": "stdout",
     "output_type": "stream",
     "text": [
      "person1\n"
     ]
    }
   ],
   "source": [
    "name = \"person1\"\n",
    "print(name)"
   ]
  },
  {
   "cell_type": "code",
   "execution_count": 44,
   "metadata": {},
   "outputs": [
    {
     "name": "stdout",
     "output_type": "stream",
     "text": [
      "enter your name: person1\n",
      "person1\n"
     ]
    }
   ],
   "source": [
    "name = input(\"enter your name: \")\n",
    "print(name)"
   ]
  },
  {
   "cell_type": "code",
   "execution_count": 45,
   "metadata": {},
   "outputs": [
    {
     "data": {
      "text/plain": [
       "5"
      ]
     },
     "execution_count": 45,
     "metadata": {},
     "output_type": "execute_result"
    }
   ],
   "source": [
    "len(\"seven\")"
   ]
  },
  {
   "cell_type": "code",
   "execution_count": 46,
   "metadata": {},
   "outputs": [],
   "source": [
    "var1 = str(548)"
   ]
  },
  {
   "cell_type": "code",
   "execution_count": 47,
   "metadata": {},
   "outputs": [
    {
     "name": "stdout",
     "output_type": "stream",
     "text": [
      "548\n"
     ]
    }
   ],
   "source": [
    "print(var1)"
   ]
  },
  {
   "cell_type": "code",
   "execution_count": 48,
   "metadata": {},
   "outputs": [],
   "source": [
    "var1 = int(\"474156\")"
   ]
  },
  {
   "cell_type": "code",
   "execution_count": 49,
   "metadata": {},
   "outputs": [
    {
     "name": "stdout",
     "output_type": "stream",
     "text": [
      "474156\n"
     ]
    }
   ],
   "source": [
    "print(var1)"
   ]
  },
  {
   "cell_type": "markdown",
   "metadata": {},
   "source": [
    "#### important point : if any non-numeric string is passed to a int()/float() it raises an error"
   ]
  },
  {
   "cell_type": "code",
   "execution_count": 50,
   "metadata": {},
   "outputs": [
    {
     "ename": "ValueError",
     "evalue": "invalid literal for int() with base 10: 'AS'",
     "output_type": "error",
     "traceback": [
      "\u001b[1;31m---------------------------------------------------------------------------\u001b[0m",
      "\u001b[1;31mValueError\u001b[0m                                Traceback (most recent call last)",
      "\u001b[1;32m<ipython-input-50-9ae61930a72d>\u001b[0m in \u001b[0;36m<module>\u001b[1;34m\u001b[0m\n\u001b[1;32m----> 1\u001b[1;33m \u001b[0mint\u001b[0m\u001b[1;33m(\u001b[0m\u001b[1;34m\"AS\"\u001b[0m\u001b[1;33m)\u001b[0m\u001b[1;33m\u001b[0m\u001b[1;33m\u001b[0m\u001b[0m\n\u001b[0m",
      "\u001b[1;31mValueError\u001b[0m: invalid literal for int() with base 10: 'AS'"
     ]
    }
   ],
   "source": [
    "int(\"AS\")"
   ]
  },
  {
   "cell_type": "code",
   "execution_count": 60,
   "metadata": {},
   "outputs": [
    {
     "data": {
      "text/plain": [
       "10"
      ]
     },
     "execution_count": 60,
     "metadata": {},
     "output_type": "execute_result"
    }
   ],
   "source": [
    "int(\"a\" , 16)  #the second parameter is by default 10, and it defines base"
   ]
  },
  {
   "cell_type": "markdown",
   "metadata": {},
   "source": [
    "therefore, to solve the previous problem, of defining \n",
    "\"age\""
   ]
  },
  {
   "cell_type": "code",
   "execution_count": 62,
   "metadata": {},
   "outputs": [
    {
     "name": "stdout",
     "output_type": "stream",
     "text": [
      "enter your age21\n",
      "<class 'str'>\n"
     ]
    }
   ],
   "source": [
    "age = str(input(\"enter your age\"))\n",
    "print(type(age))"
   ]
  },
  {
   "cell_type": "markdown",
   "metadata": {},
   "source": []
  },
  {
   "cell_type": "code",
   "execution_count": 65,
   "metadata": {},
   "outputs": [
    {
     "data": {
      "text/plain": [
       "function"
      ]
     },
     "execution_count": 65,
     "metadata": {},
     "output_type": "execute_result"
    }
   ],
   "source": [
    "type(function1) #function1 is defined already"
   ]
  },
  {
   "cell_type": "code",
   "execution_count": 66,
   "metadata": {},
   "outputs": [
    {
     "data": {
      "text/plain": [
       "type"
      ]
     },
     "execution_count": 66,
     "metadata": {},
     "output_type": "execute_result"
    }
   ],
   "source": [
    "type(type)"
   ]
  },
  {
   "cell_type": "code",
   "execution_count": null,
   "metadata": {},
   "outputs": [],
   "source": []
  },
  {
   "cell_type": "markdown",
   "metadata": {},
   "source": [
    "## Topic 8: Conditionals\n",
    ">### 1. If-else-elif statements\n",
    ">\n"
   ]
  },
  {
   "cell_type": "markdown",
   "metadata": {},
   "source": [
    ">>#### 1. Falsy values:\n",
    "1. None\n",
    "2. 0\n",
    "3. 0j complex int\n",
    "4. \"\" \n",
    "5. False\n",
    "6. [] : empty list\n",
    "7. {} : empty dictionary\n",
    "8. function returning any falsy values\n",
    "9. a comparison that returns any Falsy value (no return is equivalent to 'retrun None' )\n",
    "10. not {Truthy values} \n",
    "\n",
    "\n",
    ">>#### 2. Truthy values:\n",
    "everything that is not included in Falsy values"
   ]
  },
  {
   "cell_type": "markdown",
   "metadata": {},
   "source": [
    ">### comparison\n",
    ">> #### var1 == var2\n",
    ">> #### var1 != var2\n",
    ">> #### var1 \\>= var2\n",
    ">> #### var1 \\<= var2\n",
    ">> #### var1 \\> var2\n",
    ">> #### var1 \\< var2\n"
   ]
  },
  {
   "cell_type": "markdown",
   "metadata": {},
   "source": [
    "\n",
    "#### important: not operator is used to negate any statement\n",
    "example not(4<9) is False"
   ]
  },
  {
   "cell_type": "code",
   "execution_count": 81,
   "metadata": {},
   "outputs": [
    {
     "name": "stdout",
     "output_type": "stream",
     "text": [
      "False\n"
     ]
    }
   ],
   "source": [
    "condition1 = not 4<9\n",
    "print(condition1)"
   ]
  },
  {
   "cell_type": "code",
   "execution_count": 74,
   "metadata": {},
   "outputs": [
    {
     "name": "stdout",
     "output_type": "stream",
     "text": [
      "enter your name: cvbnm,./\n",
      "your name is: cvbnm,./\n",
      "the varible name is of type: <class 'str'>\n",
      "enter your age: cvbnm,\n",
      "your age is: cvbnm,\n",
      "the variable age is of type: <class 'str'>\n",
      "this statement is false\n"
     ]
    }
   ],
   "source": [
    "if function1():\n",
    "    #function1 has no return statement\n",
    "    print(\"this statement is true\")\n",
    "else:\n",
    "    print(\"this statement is false\")"
   ]
  },
  {
   "cell_type": "code",
   "execution_count": 77,
   "metadata": {},
   "outputs": [
    {
     "name": "stdout",
     "output_type": "stream",
     "text": [
      "all the statements above are false\n"
     ]
    }
   ],
   "source": [
    "num = 53\n",
    "if num<5:\n",
    "    print(\"less than 5\")\n",
    "elif num==52:\n",
    "    print(\"number is 52\")\n",
    "elif not True:\n",
    "    print(\" number is 589\")\n",
    "else:\n",
    "    print(\"all the statements above are false\")"
   ]
  },
  {
   "cell_type": "code",
   "execution_count": null,
   "metadata": {},
   "outputs": [],
   "source": []
  },
  {
   "cell_type": "markdown",
   "metadata": {},
   "source": [
    "## Topic 9: Loops"
   ]
  },
  {
   "cell_type": "markdown",
   "metadata": {},
   "source": [
    ">### 1. for loops\n",
    ">### 2. while loops\n",
    "\n",
    "these will be explained using an example:\n"
   ]
  },
  {
   "cell_type": "code",
   "execution_count": 83,
   "metadata": {},
   "outputs": [
    {
     "name": "stdout",
     "output_type": "stream",
     "text": [
      "0\n",
      "1\n",
      "2\n",
      "3\n",
      "4\n",
      "5\n",
      "6\n",
      "7\n",
      "8\n",
      "9\n"
     ]
    }
   ],
   "source": [
    "for i in range(10):\n",
    "    print(i)"
   ]
  },
  {
   "cell_type": "markdown",
   "metadata": {},
   "source": [
    "syntax of a for loop:\n",
    "\n",
    "\n",
    "\n",
    "> for var_name in object:\n",
    ">>   #operation\n",
    "\n",
    "\n",
    "where 'for' and 'in' are keywords\n",
    "and 'object' is any iterable object i.e. a list (also called array in c/c++), and similar objects\n",
    "\n",
    "\n"
   ]
  },
  {
   "cell_type": "code",
   "execution_count": 87,
   "metadata": {},
   "outputs": [
    {
     "name": "stdout",
     "output_type": "stream",
     "text": [
      "enter a number 10\n",
      "enter a number 5\n",
      "enter a number 4\n",
      "enter a number 1\n"
     ]
    }
   ],
   "source": [
    "condition1 = True\n",
    "while(condition1):\n",
    "    temp = int(input(\"enter a number \"))\n",
    "    if temp==1:\n",
    "        condition1=False\n",
    "        "
   ]
  },
  {
   "cell_type": "markdown",
   "metadata": {},
   "source": [
    "syntax for while loop\n",
    "\n",
    "#### if condition is not a keyword then you have to define the varible beforehand\n",
    "\n",
    "> while condition:\n",
    ">> #operation\n",
    "\n",
    "#### while loop will continue until the condition is true\n"
   ]
  },
  {
   "cell_type": "code",
   "execution_count": null,
   "metadata": {},
   "outputs": [],
   "source": []
  },
  {
   "cell_type": "markdown",
   "metadata": {},
   "source": [
    "## Topic 10: continue and break statements\n"
   ]
  },
  {
   "cell_type": "markdown",
   "metadata": {},
   "source": [
    "#### 'break' statement:\n",
    "    1. break statement is used to exit from the loop/block of code and carry on with the execution of rest of our program:\n",
    "    2. usually it is ideally carried out as a result of if-else statement but it could be used without them as well\n",
    "\n",
    "#### 'continue' statement:\n",
    "    1. When a continue statement is encountered inside a loop, control jumps to the beginning of the loop for next iteration skipping the execution of statements inside the body of loop for the current iteration.\n",
    "    \n"
   ]
  },
  {
   "cell_type": "code",
   "execution_count": 90,
   "metadata": {},
   "outputs": [
    {
     "name": "stdout",
     "output_type": "stream",
     "text": [
      "0\n",
      "1\n",
      "2\n",
      "3\n",
      "4\n",
      "continue statement, will be printing this inplace of 5\n",
      "6\n",
      "7\n",
      "8\n",
      "9\n"
     ]
    }
   ],
   "source": [
    "for i in range(15):\n",
    "    if i==10:\n",
    "        break\n",
    "    if i==5:\n",
    "        print(\"continue statement, will be printing this inplace of 5\")\n",
    "        continue\n",
    "        \n",
    "    print(i)"
   ]
  },
  {
   "cell_type": "markdown",
   "metadata": {},
   "source": [
    "\n"
   ]
  },
  {
   "cell_type": "code",
   "execution_count": null,
   "metadata": {},
   "outputs": [],
   "source": []
  },
  {
   "cell_type": "markdown",
   "metadata": {},
   "source": [
    "## Topic 11: Lists"
   ]
  },
  {
   "cell_type": "markdown",
   "metadata": {},
   "source": [
    "#### list is an array of data objects with no constraint on data type i.e., a list could contain data of different data types \n",
    "\n"
   ]
  },
  {
   "cell_type": "code",
   "execution_count": 136,
   "metadata": {},
   "outputs": [],
   "source": [
    "list_var = [1,2,5,2,\"jadshf\",5,True, 5j]"
   ]
  },
  {
   "cell_type": "markdown",
   "metadata": {},
   "source": [
    "each element can be accessed using [] operator"
   ]
  },
  {
   "cell_type": "code",
   "execution_count": 128,
   "metadata": {},
   "outputs": [
    {
     "name": "stdout",
     "output_type": "stream",
     "text": [
      "jadshf\n"
     ]
    }
   ],
   "source": [
    "print(list_var[4])"
   ]
  },
  {
   "cell_type": "markdown",
   "metadata": {},
   "source": [
    "the brackets encapsulates the index at which that particular element is located, \n",
    "> the index starts from 0 and then increases upto \"size(list_var)-1\""
   ]
  },
  {
   "cell_type": "code",
   "execution_count": 130,
   "metadata": {},
   "outputs": [
    {
     "name": "stdout",
     "output_type": "stream",
     "text": [
      "[67, 54, 4, [1, 2, 5, 2, 'jadshf', 5, True, 5j]]\n"
     ]
    }
   ],
   "source": [
    "list_var2 = [67, 54 , 4, list_var]\n",
    "print(list_var2)\n",
    "#this is an example of how a list can be nested inside another list"
   ]
  },
  {
   "cell_type": "markdown",
   "metadata": {},
   "source": [
    "#### list comes with various list functions\n",
    ">#### 1. list.append(x)\n",
    "Add an item to the end of the list. Equivalent to a[len(a):] = [x]\n",
    ">#### 2. list.extend(iterable)\n",
    "Extend the list by appending all the items from the iterable. Equivalent to a[len(a):] = iterable\n",
    ">#### 3. list.insert(i, x)\n",
    "Insert an item at a given position. The first argument is the index of the element before which to insert, so a.insert(0, x) inserts at the front of the list, and a.insert(len(a), x) is equivalent to a.append(x).\n",
    ">#### 4. list.remove(x)\n",
    "Remove the first item from the list whose value is equal to x. It raises a ValueError if there is no such item\n",
    ">#### 5. list.pop([i])\n",
    "Remove the item at the given position in the list, and return it. If no index is specified, a.pop() removes and returns the last item in the list.\n",
    ">#### 6. list.clear()\n",
    "Remove all items from the list. Equivalent to del a[:]\n",
    ">#### 7. list.index(x , [ start , end ])\n",
    "Return zero-based index in the list of the first item whose value is equal to x. Raises a ValueError if there is no such item\n",
    ">#### 8. list.count(x)\n",
    "Return the number of times x appears in the list.\n",
    ">#### 9. list.sort(\\*, key=None, reverse=False)\n",
    "Sort the items of the list in place\n",
    ">#### 10. list.copy()\n",
    "Return a shallow copy of the list. Equivalent to a[:].\n",
    ">#### 11. reverse()\n",
    "Reverse the elements of the list in place.\n"
   ]
  },
  {
   "cell_type": "code",
   "execution_count": 131,
   "metadata": {},
   "outputs": [
    {
     "data": {
      "text/plain": [
       "[1, 2, 5, 2, 'jadshf', 5, True, 5j]"
      ]
     },
     "execution_count": 131,
     "metadata": {},
     "output_type": "execute_result"
    }
   ],
   "source": [
    "list_var"
   ]
  },
  {
   "cell_type": "code",
   "execution_count": 137,
   "metadata": {},
   "outputs": [
    {
     "data": {
      "text/plain": [
       "[1, 2, 5, 2, 'jadshf', 5, True, 5j, [1, 7, 2, 8, 3, 5]]"
      ]
     },
     "execution_count": 137,
     "metadata": {},
     "output_type": "execute_result"
    }
   ],
   "source": [
    "list_var.append([1,7,2,8,3,5])\n",
    "list_var"
   ]
  },
  {
   "cell_type": "code",
   "execution_count": 138,
   "metadata": {},
   "outputs": [
    {
     "name": "stdout",
     "output_type": "stream",
     "text": [
      "[1, 2, 5, 2, 'jadshf', 5, True, 5j, [1, 7, 2, 8, 3, 5], 'a', 'b', 'c', 'd']\n"
     ]
    }
   ],
   "source": [
    "list_var.extend(['a','b','c','d'])\n",
    "print(list_var)"
   ]
  },
  {
   "cell_type": "code",
   "execution_count": 140,
   "metadata": {},
   "outputs": [
    {
     "name": "stdout",
     "output_type": "stream",
     "text": [
      "[1, 2, 'index', 5, 2, 'jadshf', 5, True, 5j, [1, 7, 2, 8, 3, 5], 'a', 'b', 'c', 'd']\n"
     ]
    }
   ],
   "source": [
    "list_var.insert(2,\"insert\")\n",
    "print(list_var)"
   ]
  },
  {
   "cell_type": "code",
   "execution_count": 142,
   "metadata": {},
   "outputs": [
    {
     "data": {
      "text/plain": [
       "1"
      ]
     },
     "execution_count": 142,
     "metadata": {},
     "output_type": "execute_result"
    }
   ],
   "source": [
    "list_var.count(5j)"
   ]
  },
  {
   "cell_type": "code",
   "execution_count": null,
   "metadata": {},
   "outputs": [],
   "source": []
  },
  {
   "cell_type": "code",
   "execution_count": null,
   "metadata": {},
   "outputs": [],
   "source": []
  },
  {
   "cell_type": "markdown",
   "metadata": {},
   "source": [
    "## Topic 12: range() and split() functions"
   ]
  },
  {
   "cell_type": "markdown",
   "metadata": {},
   "source": [
    "### range(start : end : steps)\n",
    "returns an iterable from containing elements in the range of 'start 'to 'end', 'steps' refer to difference between two elements"
   ]
  },
  {
   "cell_type": "code",
   "execution_count": 151,
   "metadata": {},
   "outputs": [
    {
     "name": "stdout",
     "output_type": "stream",
     "text": [
      "10\n",
      "13\n",
      "16\n",
      "19\n",
      "22\n",
      "25\n",
      "28\n",
      "31\n",
      "34\n",
      "37\n",
      "40\n",
      "43\n",
      "46\n",
      "49\n",
      "<class 'range'>\n"
     ]
    }
   ],
   "source": [
    "for i in range(10,50,3):\n",
    "    print(i)\n",
    "print(type(range(10,50,3)))"
   ]
  },
  {
   "cell_type": "markdown",
   "metadata": {},
   "source": [
    "### str.split(c) \n",
    "this splits string on the basis of string c, and returns all the elements in  a list"
   ]
  },
  {
   "cell_type": "code",
   "execution_count": 170,
   "metadata": {},
   "outputs": [
    {
     "data": {
      "text/plain": [
       "['a',\n",
       " ' b',\n",
       " ' c',\n",
       " ' d',\n",
       " ' ',\n",
       " '  e',\n",
       " ' f',\n",
       " ' g',\n",
       " ' h',\n",
       " ' i',\n",
       " ' l',\n",
       " ' this is a sentence and we are going to experiment on it']"
      ]
     },
     "execution_count": 170,
     "metadata": {},
     "output_type": "execute_result"
    }
   ],
   "source": [
    "var1 = \"a, b, c, d, ,  e, f, g, h, i, l, this is a sentence and we are going to experiment on it\"\n",
    "var1.split(',')"
   ]
  },
  {
   "cell_type": "code",
   "execution_count": 171,
   "metadata": {},
   "outputs": [
    {
     "name": "stdout",
     "output_type": "stream",
     "text": [
      "['a,', 'b,', 'c,', 'd,', ',', '', 'e,', 'f,', 'g,', 'h,', 'i,', 'l,', 'this', 'is', 'a', 'sentence', 'and', 'we', 'are', 'going', 'to', 'experiment', 'on', 'it']\n"
     ]
    }
   ],
   "source": [
    "print(var1.split(\" \"))"
   ]
  },
  {
   "cell_type": "code",
   "execution_count": 172,
   "metadata": {},
   "outputs": [
    {
     "name": "stdout",
     "output_type": "stream",
     "text": [
      "['a,', 'b,', 'c,', 'd,', ',', 'e,', 'f,', 'g,', 'h,', 'i,', 'l,', 'this', 'is', 'a', 'sentence', 'and', 'we', 'are', 'going', 'to', 'experiment', 'on', 'it']\n"
     ]
    }
   ],
   "source": [
    "print(var1.split())"
   ]
  },
  {
   "cell_type": "code",
   "execution_count": 180,
   "metadata": {},
   "outputs": [
    {
     "name": "stdout",
     "output_type": "stream",
     "text": [
      "['5', '2', '5', '5', '4', '3', '5', '3', '2', '6', '2']\n",
      "['5', '2', '5', '', '', '', '', '', '5', '', '', '4', '', '3', '', '5', '3', '', '2', '6', '', '2', '']\n"
     ]
    }
   ],
   "source": [
    "var2 = \"5 2 5      5   4  3  5 3  2 6  2 \"\n",
    "print(var2.split())\n",
    "print(var2.split(\" \"))"
   ]
  },
  {
   "cell_type": "code",
   "execution_count": null,
   "metadata": {},
   "outputs": [],
   "source": [
    "\n"
   ]
  },
  {
   "cell_type": "markdown",
   "metadata": {},
   "source": [
    "## Topic 13: List Comprehensions\n"
   ]
  },
  {
   "cell_type": "markdown",
   "metadata": {},
   "source": [
    "to add elements in a list as input, if we use what we have learnt up until now we would come up with a solution like:\n"
   ]
  },
  {
   "cell_type": "code",
   "execution_count": 183,
   "metadata": {},
   "outputs": [
    {
     "name": "stdout",
     "output_type": "stream",
     "text": [
      "enter the number of elements: 5\n",
      "enter the element: 1\n",
      "enter the element: 2\n",
      "enter the element: 3\n",
      "enter the element: 4\n",
      "enter the element: 5\n"
     ]
    }
   ],
   "source": [
    "n = int(input(\"enter the number of elements: \"))\n",
    "list1 = [] #empty list, to work with list functions, the data type should be 'list'\n",
    "for i in range(n):\n",
    "    var1 = int(input('enter the element: '))\n",
    "    list1.append(var1)"
   ]
  },
  {
   "cell_type": "code",
   "execution_count": 184,
   "metadata": {},
   "outputs": [
    {
     "name": "stdout",
     "output_type": "stream",
     "text": [
      "[1, 2, 3, 4, 5]\n"
     ]
    }
   ],
   "source": [
    "print(list1)"
   ]
  },
  {
   "cell_type": "markdown",
   "metadata": {},
   "source": [
    "but this can be done a lot easier using list comprehensions:\n"
   ]
  },
  {
   "cell_type": "code",
   "execution_count": 186,
   "metadata": {},
   "outputs": [
    {
     "name": "stdout",
     "output_type": "stream",
     "text": [
      "enter the numbers1 4 2 0 5 3 5 3 7 8 9\n",
      "[1, 4, 2, 0, 5, 3, 5, 3, 7, 8, 9]\n"
     ]
    }
   ],
   "source": [
    "var_list = [int(var) for var in input(\"enter the numbers\").split()]\n",
    "print(var_list)"
   ]
  },
  {
   "cell_type": "code",
   "execution_count": null,
   "metadata": {},
   "outputs": [],
   "source": []
  }
 ],
 "metadata": {
  "kernelspec": {
   "display_name": "Python 3",
   "language": "python",
   "name": "python3"
  },
  "language_info": {
   "codemirror_mode": {
    "name": "ipython",
    "version": 3
   },
   "file_extension": ".py",
   "mimetype": "text/x-python",
   "name": "python",
   "nbconvert_exporter": "python",
   "pygments_lexer": "ipython3",
   "version": "3.8.3"
  }
 },
 "nbformat": 4,
 "nbformat_minor": 4
}
